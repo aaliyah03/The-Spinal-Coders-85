{
 "cells": [
  {
   "cell_type": "code",
   "execution_count": 4,
   "metadata": {},
   "outputs": [],
   "source": [
    "from sklearn.datasets import make_classification"
   ]
  },
  {
   "cell_type": "code",
   "execution_count": 22,
   "metadata": {},
   "outputs": [],
   "source": [
    "features, target = make_classification(n_samples = 250, n_features = 8, n_informative = 6, n_redundant = 2, n_classes = 2, weights = [.7,.3])"
   ]
  },
  {
   "cell_type": "code",
   "execution_count": 23,
   "metadata": {},
   "outputs": [],
   "source": [
    "import pandas as pd"
   ]
  },
  {
   "cell_type": "code",
   "execution_count": 30,
   "metadata": {},
   "outputs": [
    {
     "data": {
      "text/html": [
       "<div>\n",
       "<style scoped>\n",
       "    .dataframe tbody tr th:only-of-type {\n",
       "        vertical-align: middle;\n",
       "    }\n",
       "\n",
       "    .dataframe tbody tr th {\n",
       "        vertical-align: top;\n",
       "    }\n",
       "\n",
       "    .dataframe thead th {\n",
       "        text-align: right;\n",
       "    }\n",
       "</style>\n",
       "<table border=\"1\" class=\"dataframe\">\n",
       "  <thead>\n",
       "    <tr style=\"text-align: right;\">\n",
       "      <th></th>\n",
       "      <th>0</th>\n",
       "      <th>1</th>\n",
       "      <th>2</th>\n",
       "      <th>3</th>\n",
       "      <th>4</th>\n",
       "      <th>5</th>\n",
       "      <th>6</th>\n",
       "      <th>7</th>\n",
       "    </tr>\n",
       "  </thead>\n",
       "  <tbody>\n",
       "    <tr>\n",
       "      <th>0</th>\n",
       "      <td>1.174216</td>\n",
       "      <td>-0.314434</td>\n",
       "      <td>1.278703</td>\n",
       "      <td>0.721018</td>\n",
       "      <td>0.471572</td>\n",
       "      <td>0.676239</td>\n",
       "      <td>0.112078</td>\n",
       "      <td>-0.001193</td>\n",
       "    </tr>\n",
       "    <tr>\n",
       "      <th>1</th>\n",
       "      <td>-6.591458</td>\n",
       "      <td>-0.973382</td>\n",
       "      <td>0.855256</td>\n",
       "      <td>-2.525741</td>\n",
       "      <td>-2.614801</td>\n",
       "      <td>-1.510973</td>\n",
       "      <td>5.230718</td>\n",
       "      <td>3.441782</td>\n",
       "    </tr>\n",
       "    <tr>\n",
       "      <th>2</th>\n",
       "      <td>1.504502</td>\n",
       "      <td>1.132635</td>\n",
       "      <td>2.262483</td>\n",
       "      <td>0.306010</td>\n",
       "      <td>1.587664</td>\n",
       "      <td>-0.755066</td>\n",
       "      <td>-3.732055</td>\n",
       "      <td>-3.703780</td>\n",
       "    </tr>\n",
       "    <tr>\n",
       "      <th>3</th>\n",
       "      <td>-3.485870</td>\n",
       "      <td>-2.319587</td>\n",
       "      <td>1.817633</td>\n",
       "      <td>-2.055966</td>\n",
       "      <td>-0.383014</td>\n",
       "      <td>-1.086068</td>\n",
       "      <td>3.644584</td>\n",
       "      <td>1.379976</td>\n",
       "    </tr>\n",
       "    <tr>\n",
       "      <th>4</th>\n",
       "      <td>0.318677</td>\n",
       "      <td>-0.549945</td>\n",
       "      <td>-0.441828</td>\n",
       "      <td>0.481756</td>\n",
       "      <td>-2.007949</td>\n",
       "      <td>1.357746</td>\n",
       "      <td>2.318030</td>\n",
       "      <td>1.011035</td>\n",
       "    </tr>\n",
       "  </tbody>\n",
       "</table>\n",
       "</div>"
      ],
      "text/plain": [
       "          0         1         2         3         4         5         6  \\\n",
       "0  1.174216 -0.314434  1.278703  0.721018  0.471572  0.676239  0.112078   \n",
       "1 -6.591458 -0.973382  0.855256 -2.525741 -2.614801 -1.510973  5.230718   \n",
       "2  1.504502  1.132635  2.262483  0.306010  1.587664 -0.755066 -3.732055   \n",
       "3 -3.485870 -2.319587  1.817633 -2.055966 -0.383014 -1.086068  3.644584   \n",
       "4  0.318677 -0.549945 -0.441828  0.481756 -2.007949  1.357746  2.318030   \n",
       "\n",
       "          7  \n",
       "0 -0.001193  \n",
       "1  3.441782  \n",
       "2 -3.703780  \n",
       "3  1.379976  \n",
       "4  1.011035  "
      ]
     },
     "execution_count": 30,
     "metadata": {},
     "output_type": "execute_result"
    }
   ],
   "source": [
    "pd.DataFrame(features).head()"
   ]
  },
  {
   "cell_type": "code",
   "execution_count": 31,
   "metadata": {},
   "outputs": [
    {
     "data": {
      "text/html": [
       "<div>\n",
       "<style scoped>\n",
       "    .dataframe tbody tr th:only-of-type {\n",
       "        vertical-align: middle;\n",
       "    }\n",
       "\n",
       "    .dataframe tbody tr th {\n",
       "        vertical-align: top;\n",
       "    }\n",
       "\n",
       "    .dataframe thead th {\n",
       "        text-align: right;\n",
       "    }\n",
       "</style>\n",
       "<table border=\"1\" class=\"dataframe\">\n",
       "  <thead>\n",
       "    <tr style=\"text-align: right;\">\n",
       "      <th></th>\n",
       "      <th>0</th>\n",
       "    </tr>\n",
       "  </thead>\n",
       "  <tbody>\n",
       "    <tr>\n",
       "      <th>0</th>\n",
       "      <td>1</td>\n",
       "    </tr>\n",
       "    <tr>\n",
       "      <th>1</th>\n",
       "      <td>0</td>\n",
       "    </tr>\n",
       "    <tr>\n",
       "      <th>2</th>\n",
       "      <td>1</td>\n",
       "    </tr>\n",
       "    <tr>\n",
       "      <th>3</th>\n",
       "      <td>0</td>\n",
       "    </tr>\n",
       "    <tr>\n",
       "      <th>4</th>\n",
       "      <td>0</td>\n",
       "    </tr>\n",
       "  </tbody>\n",
       "</table>\n",
       "</div>"
      ],
      "text/plain": [
       "   0\n",
       "0  1\n",
       "1  0\n",
       "2  1\n",
       "3  0\n",
       "4  0"
      ]
     },
     "execution_count": 31,
     "metadata": {},
     "output_type": "execute_result"
    }
   ],
   "source": [
    "pd.DataFrame(target).head()"
   ]
  },
  {
   "cell_type": "code",
   "execution_count": null,
   "metadata": {},
   "outputs": [],
   "source": []
  },
  {
   "cell_type": "code",
   "execution_count": null,
   "metadata": {},
   "outputs": [],
   "source": []
  }
 ],
 "metadata": {
  "kernelspec": {
   "display_name": "Python 3",
   "language": "python",
   "name": "python3"
  },
  "language_info": {
   "codemirror_mode": {
    "name": "ipython",
    "version": 3
   },
   "file_extension": ".py",
   "mimetype": "text/x-python",
   "name": "python",
   "nbconvert_exporter": "python",
   "pygments_lexer": "ipython3",
   "version": "3.7.3"
  }
 },
 "nbformat": 4,
 "nbformat_minor": 2
}
